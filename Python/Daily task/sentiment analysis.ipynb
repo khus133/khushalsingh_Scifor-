{
 "cells": [
  {
   "cell_type": "code",
   "execution_count": 1,
   "id": "5305413f-d4f2-44b5-bcf6-642e4f942914",
   "metadata": {},
   "outputs": [
    {
     "name": "stdout",
     "output_type": "stream",
     "text": [
      "Requirement already satisfied: nltk in c:\\users\\khush\\anaconda3\\lib\\site-packages (3.8.1)\n",
      "Requirement already satisfied: click in c:\\users\\khush\\anaconda3\\lib\\site-packages (from nltk) (8.1.7)\n",
      "Requirement already satisfied: joblib in c:\\users\\khush\\anaconda3\\lib\\site-packages (from nltk) (1.2.0)\n",
      "Requirement already satisfied: regex>=2021.8.3 in c:\\users\\khush\\anaconda3\\lib\\site-packages (from nltk) (2023.10.3)\n",
      "Requirement already satisfied: tqdm in c:\\users\\khush\\anaconda3\\lib\\site-packages (from nltk) (4.65.0)\n",
      "Requirement already satisfied: colorama in c:\\users\\khush\\anaconda3\\lib\\site-packages (from click->nltk) (0.4.6)\n",
      "Note: you may need to restart the kernel to use updated packages.\n"
     ]
    }
   ],
   "source": [
    "pip install nltk\n"
   ]
  },
  {
   "cell_type": "code",
   "execution_count": 2,
   "id": "5d40ab16-a3de-449e-ba91-cc1d27a22a15",
   "metadata": {},
   "outputs": [],
   "source": [
    "import nltk\n",
    "from nltk.corpus import movie_reviews\n",
    "from nltk.tokenize import word_tokenize\n",
    "from nltk.corpus import stopwords\n",
    "from nltk.stem import PorterStemmer\n"
   ]
  },
  {
   "cell_type": "code",
   "execution_count": 3,
   "id": "620ab175-2325-4ef7-87d0-271ef7288d4f",
   "metadata": {},
   "outputs": [
    {
     "name": "stderr",
     "output_type": "stream",
     "text": [
      "[nltk_data] Downloading package movie_reviews to\n",
      "[nltk_data]     C:\\Users\\khush\\AppData\\Roaming\\nltk_data...\n",
      "[nltk_data]   Package movie_reviews is already up-to-date!\n",
      "[nltk_data] Downloading package punkt to\n",
      "[nltk_data]     C:\\Users\\khush\\AppData\\Roaming\\nltk_data...\n",
      "[nltk_data]   Package punkt is already up-to-date!\n",
      "[nltk_data] Downloading package stopwords to\n",
      "[nltk_data]     C:\\Users\\khush\\AppData\\Roaming\\nltk_data...\n",
      "[nltk_data]   Package stopwords is already up-to-date!\n"
     ]
    },
    {
     "data": {
      "text/plain": [
       "True"
      ]
     },
     "execution_count": 3,
     "metadata": {},
     "output_type": "execute_result"
    }
   ],
   "source": [
    "nltk.download('movie_reviews')\n",
    "nltk.download('punkt')\n",
    "nltk.download('stopwords')\n",
    "\n"
   ]
  },
  {
   "cell_type": "code",
   "execution_count": 4,
   "id": "715113fd-9782-42bb-8660-c0720d6ac78c",
   "metadata": {},
   "outputs": [],
   "source": [
    "reviews = [(list(movie_reviews.words(fileid)), category)\n",
    "           for category in movie_reviews.categories()\n",
    "           for fileid in movie_reviews.fileids(category)]"
   ]
  },
  {
   "cell_type": "code",
   "execution_count": 5,
   "id": "0c258948-224a-43e9-8304-94986c043732",
   "metadata": {},
   "outputs": [
    {
     "name": "stdout",
     "output_type": "stream",
     "text": [
      "Review: plot : two teen couples go to a church party , drink and then drive . they get into an accident . one of the guys dies , but his girlfriend continues to see him in her life , and has nightmares . what ' s the deal ? watch the movie and \" sorta \" find out . . . critique : a mind - fuck movie for the teen generation that touches on a very cool idea , but presents it in a very bad package . which is what makes this review an even harder one to write , since i generally applaud films which attempt to break the mold , mess with your head and such ( lost highway & memento ) , but there are good and bad ways of making all types of films , and these folks just didn ' t snag this one correctly . they seem to have taken this pretty neat concept , but executed it terribly . so what are the problems with the movie ? well , its main problem is that it ' s simply too jumbled . it starts off \" normal \" but then downshifts into this \" fantasy \" world in which you , as an audience member , have no idea what ' s going on . there are dreams , there are characters coming back from the dead , there are others who look like the dead , there are strange apparitions , there are disappearances , there are a looooot of chase scenes , there are tons of weird things that happen , and most of it is simply not explained . now i personally don ' t mind trying to unravel a film every now and then , but when all it does is give me the same clue over and over again , i get kind of fed up after a while , which is this film ' s biggest problem . it ' s obviously got this big secret to hide , but it seems to want to hide it completely until its final five minutes . and do they make things entertaining , thrilling or even engaging , in the meantime ? not really . the sad part is that the arrow and i both dig on flicks like this , so we actually figured most of it out by the half - way point , so all of the strangeness after that did start to make a little bit of sense , but it still didn ' t the make the film all that more entertaining . i guess the bottom line with movies like this is that you should always make sure that the audience is \" into it \" even before they are given the secret password to enter your world of understanding . i mean , showing melissa sagemiller running away from visions for about 20 minutes throughout the movie is just plain lazy ! ! okay , we get it . . . there are people chasing her and we don ' t know who they are . do we really need to see it over and over again ? how about giving us different scenes offering further insight into all of the strangeness going down in the movie ? apparently , the studio took this film away from its director and chopped it up themselves , and it shows . there might ' ve been a pretty decent teen mind - fuck movie in here somewhere , but i guess \" the suits \" decided that turning it into a music video with little edge , would make more sense . the actors are pretty good for the most part , although wes bentley just seemed to be playing the exact same character that he did in american beauty , only in a new neighborhood . but my biggest kudos go out to sagemiller , who holds her own throughout the entire film , and actually has you feeling her character ' s unraveling . overall , the film doesn ' t stick because it doesn ' t entertain , it ' s confusing , it rarely excites and it feels pretty redundant for most of its runtime , despite a pretty cool ending and explanation to all of the craziness that came before it . oh , and by the way , this is not a horror or teen slasher flick . . . it ' s just packaged to look that way because someone is apparently assuming that the genre is still hot with the kids . it also wrapped production two years ago and has been sitting on the shelves ever since . whatever . . . skip it ! where ' s joblo coming from ? a nightmare of elm street 3 ( 7 / 10 ) - blair witch 2 ( 7 / 10 ) - the crow ( 9 / 10 ) - the crow : salvation ( 4 / 10 ) - lost highway ( 10 / 10 ) - memento ( 10 / 10 ) - the others ( 9 / 10 ) - stir of echoes ( 8 / 10 )\n",
      "Sentiment: neg\n",
      "\n",
      "Review: the happy bastard ' s quick movie review damn that y2k bug . it ' s got a head start in this movie starring jamie lee curtis and another baldwin brother ( william this time ) in a story regarding a crew of a tugboat that comes across a deserted russian tech ship that has a strangeness to it when they kick the power back on . little do they know the power within . . . going for the gore and bringing on a few action sequences here and there , virus still feels very empty , like a movie going for all flash and no substance . we don ' t know why the crew was really out in the middle of nowhere , we don ' t know the origin of what took over the ship ( just that a big pink flashy thing hit the mir ) , and , of course , we don ' t know why donald sutherland is stumbling around drunkenly throughout . here , it ' s just \" hey , let ' s chase these people around with some robots \" . the acting is below average , even from the likes of curtis . you ' re more likely to get a kick out of her work in halloween h20 . sutherland is wasted and baldwin , well , he ' s acting like a baldwin , of course . the real star here are stan winston ' s robot design , some schnazzy cgi , and the occasional good gore shot , like picking into someone ' s brain . so , if robots and body parts really turn you on , here ' s your movie . otherwise , it ' s pretty much a sunken ship of a movie .\n",
      "Sentiment: neg\n",
      "\n",
      "Review: it is movies like these that make a jaded movie viewer thankful for the invention of the timex indiglo watch . based on the late 1960 ' s television show by the same name , the mod squad tells the tale of three reformed criminals under the employ of the police to go undercover . however , things go wrong as evidence gets stolen and they are immediately under suspicion . of course , the ads make it seem like so much more . quick cuts , cool music , claire dane ' s nice hair and cute outfits , car chases , stuff blowing up , and the like . sounds like a cool movie , does it not ? after the first fifteen minutes , it quickly becomes apparent that it is not . the mod squad is certainly a slick looking production , complete with nice hair and costumes , but that simply isn ' t enough . the film is best described as a cross between an hour - long cop show and a music video , both stretched out into the span of an hour and a half . and with it comes every single clich ? . it doesn ' t really matter that the film is based on a television show , as most of the plot elements have been recycled from everything we ' ve already seen . the characters and acting is nothing spectacular , sometimes even bordering on wooden . claire danes and omar epps deliver their lines as if they are bored , which really transfers onto the audience . the only one to escape relatively unscathed is giovanni ribisi , who plays the resident crazy man , ultimately being the only thing worth watching . unfortunately , even he ' s not enough to save this convoluted mess , as all the characters don ' t do much apart from occupying screen time . with the young cast , cool clothes , nice hair , and hip soundtrack , it appears that the film is geared towards the teenage mindset . despite an american ' r ' rating ( which the content does not justify ) , the film is way too juvenile for the older mindset . information on the characters is literally spoon - fed to the audience ( would it be that hard to show us instead of telling us ? ) , dialogue is poorly written , and the plot is extremely predictable . the way the film progresses , you likely won ' t even care if the heroes are in any jeopardy , because you ' ll know they aren ' t . basing the show on a 1960 ' s television show that nobody remembers is of questionable wisdom , especially when one considers the target audience and the fact that the number of memorable films based on television shows can be counted on one hand ( even one that ' s missing a finger or two ) . the number of times that i checked my watch ( six ) is a clear indication that this film is not one of them . it is clear that the film is nothing more than an attempt to cash in on the teenage spending dollar , judging from the rash of really awful teen - flicks that we ' ve been seeing as of late . avoid this film at all costs .\n",
      "Sentiment: neg\n",
      "\n",
      "Review: \" quest for camelot \" is warner bros . ' first feature - length , fully - animated attempt to steal clout from disney ' s cartoon empire , but the mouse has no reason to be worried . the only other recent challenger to their throne was last fall ' s promising , if flawed , 20th century fox production \" anastasia , \" but disney ' s \" hercules , \" with its lively cast and colorful palate , had her beat hands - down when it came time to crown 1997 ' s best piece of animation . this year , it ' s no contest , as \" quest for camelot \" is pretty much dead on arrival . even the magic kingdom at its most mediocre -- that ' d be \" pocahontas \" for those of you keeping score -- isn ' t nearly as dull as this . the story revolves around the adventures of free - spirited kayley ( voiced by jessalyn gilsig ) , the early - teen daughter of a belated knight from king arthur ' s round table . kayley ' s only dream is to follow in her father ' s footsteps , and she gets her chance when evil warlord ruber ( gary oldman ) , an ex - round table member - gone - bad , steals arthur ' s magical sword excalibur and accidentally loses it in a dangerous , booby - trapped forest . with the help of hunky , blind timberland - dweller garrett ( carey elwes ) and a two - headed dragon ( eric idle and don rickles ) that ' s always arguing with itself , kayley just might be able to break the medieval sexist mold and prove her worth as a fighter on arthur ' s side . \" quest for camelot \" is missing pure showmanship , an essential element if it ' s ever expected to climb to the high ranks of disney . there ' s nothing here that differentiates \" quest \" from something you ' d see on any given saturday morning cartoon -- subpar animation , instantly forgettable songs , poorly - integrated computerized footage . ( compare kayley and garrett ' s run - in with the angry ogre to herc ' s battle with the hydra . i rest my case . ) even the characters stink -- none of them are remotely interesting , so much that the film becomes a race to see which one can out - bland the others . in the end , it ' s a tie -- they all win . that dragon ' s comedy shtick is awfully cloying , but at least it shows signs of a pulse . at least fans of the early -' 90s tgif television line - up will be thrilled to find jaleel \" urkel \" white and bronson \" balki \" pinchot sharing the same footage . a few scenes are nicely realized ( though i ' m at a loss to recall enough to be specific ) , and the actors providing the voice talent are enthusiastic ( though most are paired up with singers who don ' t sound a thing like them for their big musical moments -- jane seymour and celine dion ? ? ? ) . but one must strain through too much of this mess to find the good . aside from the fact that children will probably be as bored watching this as adults , \" quest for camelot \" ' s most grievous error is its complete lack of personality . and personality , we learn from this mess , goes a very long way .\n",
      "Sentiment: neg\n",
      "\n",
      "Review: synopsis : a mentally unstable man undergoing psychotherapy saves a boy from a potentially fatal accident and then falls in love with the boy ' s mother , a fledgling restauranteur . unsuccessfully attempting to gain the woman ' s favor , he takes pictures of her and kills a number of people in his way . comments : stalked is yet another in a seemingly endless string of spurned - psychos - getting - their - revenge type movies which are a stable category in the 1990s film industry , both theatrical and direct - to - video . their proliferation may be due in part to the fact that they ' re typically inexpensive to produce ( no special effects , no big name stars ) and serve as vehicles to flash nudity ( allowing them to frequent late - night cable television ) . stalked wavers slightly from the norm in one respect : the psycho never actually has an affair ; on the contrary , he ' s rejected rather quickly ( the psycho typically is an ex - lover , ex - wife , or ex - husband ) . other than that , stalked is just another redundant entry doomed to collect dust on video shelves and viewed after midnight on cable . stalked does not provide much suspense , though that is what it sets out to do . interspersed throughout the opening credits , for instance , a serious - sounding narrator spouts statistics about stalkers and ponders what may cause a man to stalk ( it ' s implicitly implied that all stalkers are men ) while pictures of a boy are shown on the screen . after these credits , a snapshot of actor jay underwood appears . the narrator states that \" this is the story of daryl gleason \" and tells the audience that he is the stalker . of course , really , this is the story of restauranteur brooke daniels . if the movie was meant to be about daryl , then it should have been called stalker not stalked . okay . so we know who the stalker is even before the movie starts ; no guesswork required . stalked proceeds , then , as it begins : obvious , obvious , obvious . the opening sequence , contrived quite a bit , brings daryl and brooke ( the victim ) together . daryl obsesses over brooke , follows her around , and tries to woo her . ultimately rejected by her , his plans become more and more desperate and elaborate . these plans include the all - time , psycho - in - love , cliche : the murdered pet . for some reason , this genre ' s films require a dead pet to be found by the victim stalked . stalked is no exception ( it ' s a cat this time -- found in the shower ) . events like these lead to the inevitable showdown between stalker and stalked , where only one survives ( guess who it invariably always is and you ' ll guess the conclusion to this turkey ) . stalked ' s cast is uniformly adequate : not anything to write home about but also not all that bad either . jay underwood , as the stalker , turns toward melodrama a bit too much . he overdoes it , in other words , but he still manages to be creepy enough to pass as the type of stalker the story demands . maryam d ' abo , about the only actor close to being a star here ( she played the bond chick in the living daylights ) , is equally adequate as the \" stalked \" of the title , even though she seems too ditzy at times to be a strong , independent business - owner . brooke ( d ' abo ) needs to be ditzy , however , for the plot to proceed . toward the end , for example , brooke has her suspicions about daryl . to ensure he won ' t use it as another excuse to see her , brooke decides to return a toolbox he had left at her place to his house . does she just leave the toolbox at the door when no one answers ? of course not . she tries the door , opens it , and wanders around the house . when daryl returns , he enters the house , of course , so our heroine is in danger . somehow , even though her car is parked at the front of the house , right by the front door , daryl is oblivious to her presence inside . the whole episode places an incredible strain on the audience ' s suspension of disbelief and questions the validity of either character ' s intelligence . stalked receives two stars because , even though it is highly derivative and somewhat boring , it is not so bad that it cannot be watched . rated r mostly for several murder scenes and brief nudity in a strip bar , it is not as offensive as many other thrillers in this genre are . if you ' re in the mood for a good suspense film , though , stake out something else .\n",
      "Sentiment: neg\n",
      "\n"
     ]
    }
   ],
   "source": [
    "for review in reviews[:5]:\n",
    "    print(f\"Review: {' '.join(review[0])}\")\n",
    "    print(f\"Sentiment: {review[1]}\")\n",
    "    print()"
   ]
  },
  {
   "cell_type": "code",
   "execution_count": 6,
   "id": "b44ec328-801b-4a98-ab8c-40d059f47c86",
   "metadata": {},
   "outputs": [],
   "source": [
    "ps = PorterStemmer()\n"
   ]
  },
  {
   "cell_type": "code",
   "execution_count": 7,
   "id": "843232ab-7b97-4352-a42e-41f4e56c78ad",
   "metadata": {},
   "outputs": [],
   "source": [
    "def preprocess_text(text):\n",
    "    tokens = word_tokenize(text)\n",
    "    tokens = [word for word in tokens if word.lower() not in stopwords.words('english')]\n",
    "    tokens = [ps.stem(word) for word in tokens]\n",
    "    return tokens"
   ]
  },
  {
   "cell_type": "code",
   "execution_count": 8,
   "id": "ae44dc60-bef9-4b2a-b489-3be59f883323",
   "metadata": {},
   "outputs": [],
   "source": [
    "processed_reviews = []\n",
    "for review in reviews[:5]:\n",
    "    text = ' '.join(review[0])\n",
    "    sentiment = review[1]\n",
    "    processed_text = preprocess_text(text)\n",
    "    processed_reviews.append((processed_text, sentiment))"
   ]
  },
  {
   "cell_type": "code",
   "execution_count": 9,
   "id": "511a0603-d55f-4a16-a511-cf162832dbe5",
   "metadata": {},
   "outputs": [
    {
     "name": "stdout",
     "output_type": "stream",
     "text": [
      "Processed Review: plot : two teen coupl go church parti , drink drive . get accid . one guy die , girlfriend continu see life , nightmar . ' deal ? watch movi `` sorta `` find . . . critiqu : mind - fuck movi teen gener touch cool idea , present bad packag . make review even harder one write , sinc gener applaud film attempt break mold , mess head ( lost highway & memento ) , good bad way make type film , folk ' snag one correctli . seem taken pretti neat concept , execut terribl . problem movi ? well , main problem ' simpli jumbl . start `` normal `` downshift `` fantasi `` world , audienc member , idea ' go . dream , charact come back dead , other look like dead , strang apparit , disappear , looooot chase scene , ton weird thing happen , simpli explain . person ' mind tri unravel film everi , give clue , get kind fed , film ' biggest problem . ' obvious got big secret hide , seem want hide complet final five minut . make thing entertain , thrill even engag , meantim ? realli . sad part arrow dig flick like , actual figur half - way point , strang start make littl bit sens , still ' make film entertain . guess bottom line movi like alway make sure audienc `` `` even given secret password enter world understand . mean , show melissa sagemil run away vision 20 minut throughout movi plain lazi ! ! okay , get . . . peopl chase ' know . realli need see ? give us differ scene offer insight strang go movi ? appar , studio took film away director chop , show . might ' pretti decent teen mind - fuck movi somewher , guess `` suit `` decid turn music video littl edg , would make sens . actor pretti good part , although we bentley seem play exact charact american beauti , new neighborhood . biggest kudo go sagemil , hold throughout entir film , actual feel charact ' unravel . overal , film ' stick ' entertain , ' confus , rare excit feel pretti redund runtim , despit pretti cool end explan crazi came . oh , way , horror teen slasher flick . . . ' packag look way someon appar assum genr still hot kid . also wrap product two year ago sit shelv ever sinc . whatev . . . skip ! ' joblo come ? nightmar elm street 3 ( 7 / 10 ) - blair witch 2 ( 7 / 10 ) - crow ( 9 / 10 ) - crow : salvat ( 4 / 10 ) - lost highway ( 10 / 10 ) - memento ( 10 / 10 ) - other ( 9 / 10 ) - stir echo ( 8 / 10 )\n",
      "Sentiment: neg\n",
      "\n",
      "Processed Review: happi bastard ' quick movi review damn y2k bug . ' got head start movi star jami lee curti anoth baldwin brother ( william time ) stori regard crew tugboat come across desert russian tech ship strang kick power back . littl know power within . . . go gore bring action sequenc , viru still feel empti , like movi go flash substanc . ' know crew realli middl nowher , ' know origin took ship ( big pink flashi thing hit mir ) , , cours , ' know donald sutherland stumbl around drunkenli throughout . , ' `` hey , let ' chase peopl around robot `` . act averag , even like curti . ' like get kick work halloween h20 . sutherland wast baldwin , well , ' act like baldwin , cours . real star stan winston ' robot design , schnazzi cgi , occasion good gore shot , like pick someon ' brain . , robot bodi part realli turn , ' movi . otherwis , ' pretti much sunken ship movi .\n",
      "Sentiment: neg\n",
      "\n",
      "Processed Review: movi like make jade movi viewer thank invent timex indiglo watch . base late 1960 ' televis show name , mod squad tell tale three reform crimin employ polic go undercov . howev , thing go wrong evid get stolen immedi suspicion . cours , ad make seem like much . quick cut , cool music , clair dane ' nice hair cute outfit , car chase , stuff blow , like . sound like cool movi , ? first fifteen minut , quickli becom appar . mod squad certainli slick look product , complet nice hair costum , simpli ' enough . film best describ cross hour - long cop show music video , stretch span hour half . come everi singl clich ? . ' realli matter film base televis show , plot element recycl everyth ' alreadi seen . charact act noth spectacular , sometim even border wooden . clair dane omar epp deliv line bore , realli transfer onto audienc . one escap rel unscath giovanni ribisi , play resid crazi man , ultim thing worth watch . unfortun , even ' enough save convolut mess , charact ' much apart occupi screen time . young cast , cool cloth , nice hair , hip soundtrack , appear film gear toward teenag mindset . despit american ' r ' rate ( content justifi ) , film way juvenil older mindset . inform charact liter spoon - fed audienc ( would hard show us instead tell us ? ) , dialogu poorli written , plot extrem predict . way film progress , like ' even care hero jeopardi , ' know ' . base show 1960 ' televis show nobodi rememb question wisdom , especi one consid target audienc fact number memor film base televis show count one hand ( even one ' miss finger two ) . number time check watch ( six ) clear indic film one . clear film noth attempt cash teenag spend dollar , judg rash realli aw teen - flick ' see late . avoid film cost .\n",
      "Sentiment: neg\n",
      "\n",
      "Processed Review: `` quest camelot `` warner bro . ' first featur - length , fulli - anim attempt steal clout disney ' cartoon empir , mous reason worri . recent challeng throne last fall ' promis , flaw , 20th centuri fox product `` anastasia , `` disney ' `` hercul , `` live cast color palat , beat hand - came time crown 1997 ' best piec anim . year , ' contest , `` quest camelot `` pretti much dead arriv . even magic kingdom mediocr -- ' `` pocahonta `` keep score -- ' nearli dull . stori revolv around adventur free - spirit kayley ( voic jessalyn gilsig ) , earli - teen daughter belat knight king arthur ' round tabl . kayley ' dream follow father ' footstep , get chanc evil warlord ruber ( gari oldman ) , ex - round tabl member - gone - bad , steal arthur ' magic sword excalibur accident lose danger , boobi - trap forest . help hunki , blind timberland - dweller garrett ( carey elw ) two - head dragon ( eric idl rickl ) ' alway argu , kayley might abl break mediev sexist mold prove worth fighter arthur ' side . `` quest camelot `` miss pure showmanship , essenti element ' ever expect climb high rank disney . ' noth differenti `` quest `` someth ' see given saturday morn cartoon -- subpar anim , instantli forgett song , poorli - integr computer footag . ( compar kayley garrett ' run - angri ogr herc ' battl hydra . rest case . ) even charact stink -- none remot interest , much film becom race see one - bland other . end , ' tie -- win . dragon ' comedi shtick aw cloy , least show sign puls . least fan earli - ' 90 tgif televis line - thrill find jaleel `` urkel `` white bronson `` balki `` pinchot share footag . scene nice realiz ( though ' loss recal enough specif ) , actor provid voic talent enthusiast ( though pair singer ' sound thing like big music moment -- jane seymour celin dion ? ? ? ) . one must strain much mess find good . asid fact children probabl bore watch adult , `` quest camelot `` ' grievou error complet lack person . person , learn mess , goe long way .\n",
      "Sentiment: neg\n",
      "\n",
      "Processed Review: synopsi : mental unstabl man undergo psychotherapi save boy potenti fatal accid fall love boy ' mother , fledgl restauranteur . unsuccess attempt gain woman ' favor , take pictur kill number peopl way . comment : stalk yet anoth seemingli endless string spurn - psycho - get - - reveng type movi stabl categori 1990 film industri , theatric direct - - video . prolifer may due part fact ' typic inexpens produc ( special effect , big name star ) serv vehicl flash nuditi ( allow frequent late - night cabl televis ) . stalk waver slightli norm one respect : psycho never actual affair ; contrari , ' reject rather quickli ( psycho typic ex - lover , ex - wife , ex - husband ) . , stalk anoth redund entri doom collect dust video shelv view midnight cabl . stalk provid much suspens , though set . interspers throughout open credit , instanc , seriou - sound narrat spout statist stalker ponder may caus man stalk ( ' implicitli impli stalker men ) pictur boy shown screen . credit , snapshot actor jay underwood appear . narrat state `` stori daryl gleason `` tell audienc stalker . cours , realli , stori restauranteur brook daniel . movi meant daryl , call stalker stalk . okay . know stalker even movi start ; guesswork requir . stalk proce , , begin : obviou , obviou , obviou . open sequenc , contriv quit bit , bring daryl brook ( victim ) togeth . daryl obsess brook , follow around , tri woo . ultim reject , plan becom desper elabor . plan includ - time , psycho - - love , clich : murder pet . reason , genr ' film requir dead pet found victim stalk . stalk except ( ' cat time -- found shower ) . event like lead inevit showdown stalker stalk , one surviv ( guess invari alway ' guess conclus turkey ) . stalk ' cast uniformli adequ : anyth write home also bad either . jay underwood , stalker , turn toward melodrama bit much . overdo , word , still manag creepi enough pass type stalker stori demand . maryam ' abo , actor close star ( play bond chick live daylight ) , equal adequ `` stalk `` titl , even though seem ditzi time strong , independ busi - owner . brook ( ' abo ) need ditzi , howev , plot proceed . toward end , exampl , brook suspicion daryl . ensur ' use anoth excus see , brook decid return toolbox left place hous . leav toolbox door one answer ? cours . tri door , open , wander around hous . daryl return , enter hous , cours , heroin danger . somehow , even though car park front hous , right front door , daryl oblivi presenc insid . whole episod place incred strain audienc ' suspens disbelief question valid either charact ' intellig . stalk receiv two star , even though highli deriv somewhat bore , bad watch . rate r mostli sever murder scene brief nuditi strip bar , offens mani thriller genr . ' mood good suspens film , though , stake someth els .\n",
      "Sentiment: neg\n",
      "\n"
     ]
    }
   ],
   "source": [
    "for processed_review in processed_reviews:\n",
    "    print(f\"Processed Review: {' '.join(processed_review[0])}\")\n",
    "    print(f\"Sentiment: {processed_review[1]}\")\n",
    "    print()"
   ]
  },
  {
   "cell_type": "code",
   "execution_count": null,
   "id": "09768a03-e4bf-4543-9fc0-e47b76d6aaca",
   "metadata": {},
   "outputs": [],
   "source": [
    "\n"
   ]
  },
  {
   "cell_type": "code",
   "execution_count": null,
   "id": "524c1eca-a498-48e4-8e32-c525e9217228",
   "metadata": {},
   "outputs": [],
   "source": []
  },
  {
   "cell_type": "code",
   "execution_count": null,
   "id": "c1859b73-b7f8-485c-8621-202506cf6bdd",
   "metadata": {},
   "outputs": [],
   "source": []
  }
 ],
 "metadata": {
  "kernelspec": {
   "display_name": "Python 3 (ipykernel)",
   "language": "python",
   "name": "python3"
  },
  "language_info": {
   "codemirror_mode": {
    "name": "ipython",
    "version": 3
   },
   "file_extension": ".py",
   "mimetype": "text/x-python",
   "name": "python",
   "nbconvert_exporter": "python",
   "pygments_lexer": "ipython3",
   "version": "3.11.7"
  }
 },
 "nbformat": 4,
 "nbformat_minor": 5
}
